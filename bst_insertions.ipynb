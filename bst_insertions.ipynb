{
 "cells": [
  {
   "cell_type": "code",
   "execution_count": 31,
   "metadata": {},
   "outputs": [],
   "source": [
    "import timeit\n",
    "import numpy\n",
    "import tabulate\n",
    "\n",
    "COMMAND = '''\n",
    "from timeit import Timer\n",
    "from BST import BST\n",
    "import tabulate\n",
    "import random\n",
    "\n",
    "number_of_nodes = {0}\n",
    "elements = range(number_of_nodes)\n",
    "elements = random.sample(elements, len(elements))\n",
    "tree = BST()\n",
    "for e in elements:\n",
    "    tree.insert(e)\n",
    "'''\n",
    "\n",
    "data = None\n",
    "for number_of_nodes in range(10,100,10):\n",
    "    results = timeit.repeat(COMMAND.format(str(number_of_nodes)), number=100, repeat=5)\n",
    "    \n",
    "    if data is None:\n",
    "        data = numpy.array([results])\n",
    "    else:\n",
    "        data = numpy.concatenate((data, [results]), axis=0)\n",
    "        \n",
    "data_mean = numpy.mean(data, axis=1)\n",
    "data_std = numpy.std(data, axis=1)"
   ]
  },
  {
   "cell_type": "code",
   "execution_count": null,
   "metadata": {},
   "outputs": [],
   "source": []
  }
 ],
 "metadata": {
  "kernelspec": {
   "display_name": "Python 3",
   "language": "python",
   "name": "python3"
  },
  "language_info": {
   "codemirror_mode": {
    "name": "ipython",
    "version": 3
   },
   "file_extension": ".py",
   "mimetype": "text/x-python",
   "name": "python",
   "nbconvert_exporter": "python",
   "pygments_lexer": "ipython3",
   "version": "3.7.0"
  }
 },
 "nbformat": 4,
 "nbformat_minor": 2
}
